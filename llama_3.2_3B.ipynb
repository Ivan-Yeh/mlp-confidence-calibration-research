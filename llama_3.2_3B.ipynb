{
 "cells": [
  {
   "cell_type": "markdown",
   "metadata": {},
   "source": [
    "# llama_3.1 8B Instruct\n",
    "\n",
    "This model could ben downloaded and deploy locally, despite its slow runtime. "
   ]
  },
  {
   "cell_type": "code",
   "execution_count": null,
   "metadata": {},
   "outputs": [],
   "source": [
    "import json\n",
    "import torch\n",
    "import transformers\n",
    "from huggingface_hub import snapshot_download, login"
   ]
  },
  {
   "cell_type": "code",
   "execution_count": 19,
   "metadata": {},
   "outputs": [],
   "source": [
    "with open(\"api.json\") as f:\n",
    "    login(token=json.load(f)[\"HF_TOKEN\"])"
   ]
  },
  {
   "cell_type": "code",
   "execution_count": null,
   "metadata": {},
   "outputs": [
    {
     "name": "stderr",
     "output_type": "stream",
     "text": [
      "Fetching 16 files: 100%|██████████| 16/16 [00:00<00:00, 208412.62it/s]\n"
     ]
    },
    {
     "data": {
      "text/plain": [
       "'/Users/ivan/.cache/huggingface/hub/models--meta-llama--Llama-3.2-3B-Instruct/snapshots/0cb88a4f764b7a12671c53f0838cd831a0843b95'"
      ]
     },
     "execution_count": 20,
     "metadata": {},
     "output_type": "execute_result"
    }
   ],
   "source": [
    "local_dir = snapshot_download(repo_id=\"meta-llama/Llama-3.2-3B-Instruct\")\n",
    "local_dir"
   ]
  },
  {
   "cell_type": "code",
   "execution_count": 21,
   "metadata": {},
   "outputs": [
    {
     "name": "stderr",
     "output_type": "stream",
     "text": [
      "Loading checkpoint shards: 100%|██████████| 2/2 [00:14<00:00,  7.49s/it]\n",
      "Some parameters are on the meta device because they were offloaded to the disk.\n",
      "Device set to use mps\n"
     ]
    }
   ],
   "source": [
    "\n",
    "pipeline: transformers.pipeline = transformers.pipeline(\"text-generation\", model=local_dir, device_map=\"auto\", model_kwargs={\"torch_dtype\": torch.float16, \"low_cpu_mem_usage\": True})\n",
    "terminators = [pipeline.tokenizer.eos_token_id, pipeline.tokenizer.convert_tokens_to_ids(\"<|eot_id|>\")]"
   ]
  },
  {
   "cell_type": "code",
   "execution_count": 22,
   "metadata": {},
   "outputs": [],
   "source": [
    "# takes a str query and returns str responses\n",
    "def get_response(query, message_history=[], max_tokens=2048, temperature=0.6, top_p=0.9):\n",
    "    user_prompt = message_history + [{\"role\": \"user\", \"content\": query}]\n",
    "    prompt = pipeline.tokenizer.apply_chat_template(\n",
    "        user_prompt, tokenize=False, add_generation_prompt=True\n",
    "    )\n",
    "    outputs = pipeline(\n",
    "        prompt,\n",
    "        max_new_tokens=max_tokens,\n",
    "        eos_token_id=terminators,\n",
    "        do_sample=True,\n",
    "        temperature=temperature,\n",
    "        top_p=top_p\n",
    "    )\n",
    "    response = outputs[0][\"generated_text\"][len(prompt):]\n",
    "    return response\n",
    "\n",
    "# take a list of messages (dict[str, any] -> role, content) and a response\n",
    "def response_from_msg_list(msg_list: list[dict], message_history=[], max_tokens=2048, temperature=0.6, top_p=0.9):\n",
    "    flat_msg_list = []\n",
    "    for x in range(len(msg_list)): flat_msg_list += [{\"role\":k , \"content\": v} for k, v in msg_list[x].items()]\n",
    "    user_prompt = message_history + flat_msg_list\n",
    "    print(\"message list:\", user_prompt)\n",
    "    prompt = pipeline.tokenizer.apply_chat_template(\n",
    "        user_prompt, tokenize=False, add_generation_prompt=True\n",
    "    )\n",
    "    outputs = pipeline(\n",
    "        prompt,\n",
    "        max_new_tokens=max_tokens,\n",
    "        eos_token_id=terminators,\n",
    "        do_sample=True,\n",
    "        temperature=temperature,\n",
    "        top_p=top_p\n",
    "    )\n",
    "    response = outputs[0][\"generated_text\"][len(prompt):]\n",
    "    return response"
   ]
  },
  {
   "cell_type": "code",
   "execution_count": 26,
   "metadata": {},
   "outputs": [
    {
     "name": "stderr",
     "output_type": "stream",
     "text": [
      "Setting `pad_token_id` to `eos_token_id`:128009 for open-end generation.\n"
     ]
    },
    {
     "data": {
      "text/plain": [
       "'Ottawa (100%)'"
      ]
     },
     "execution_count": 26,
     "metadata": {},
     "output_type": "execute_result"
    }
   ],
   "source": [
    "get_response(\"What is the capital of Canada in one word and what's your confidence as a percentage in parentheses that this is the correct answer?\")"
   ]
  },
  {
   "cell_type": "code",
   "execution_count": 36,
   "metadata": {},
   "outputs": [
    {
     "name": "stderr",
     "output_type": "stream",
     "text": [
      "Setting `pad_token_id` to `eos_token_id`:128009 for open-end generation.\n"
     ]
    },
    {
     "name": "stdout",
     "output_type": "stream",
     "text": [
      "message list: [{'role': 'user', 'content': 'What is the richest city in Australia?'}, {'role': 'system', 'content': 'as concisely as possible and your confidence as a percentage in parentheses at the end'}]\n"
     ]
    },
    {
     "data": {
      "text/plain": [
       "'Melbourne (92%)'"
      ]
     },
     "execution_count": 36,
     "metadata": {},
     "output_type": "execute_result"
    }
   ],
   "source": [
    "response_from_msg_list([{\"user\": \"What is the richest city in Australia?\"}, {\"system\": \"as concisely as possible and your confidence as a percentage in parentheses at the end\"}])"
   ]
  },
  {
   "cell_type": "code",
   "execution_count": null,
   "metadata": {},
   "outputs": [],
   "source": []
  }
 ],
 "metadata": {
  "kernelspec": {
   "display_name": "venv",
   "language": "python",
   "name": "python3"
  },
  "language_info": {
   "codemirror_mode": {
    "name": "ipython",
    "version": 3
   },
   "file_extension": ".py",
   "mimetype": "text/x-python",
   "name": "python",
   "nbconvert_exporter": "python",
   "pygments_lexer": "ipython3",
   "version": "3.13.2"
  }
 },
 "nbformat": 4,
 "nbformat_minor": 2
}
