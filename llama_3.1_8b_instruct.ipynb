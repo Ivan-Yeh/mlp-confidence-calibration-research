{
 "cells": [
  {
   "cell_type": "markdown",
   "metadata": {},
   "source": [
    "# llama_3.1 8B Instruct\n",
    "\n",
    "This model could ben downloaded and deploy locally, despite its slow runtime. "
   ]
  },
  {
   "cell_type": "code",
   "execution_count": null,
   "metadata": {},
   "outputs": [],
   "source": [
    "import torch\n",
    "import transformers"
   ]
  },
  {
   "cell_type": "code",
   "execution_count": null,
   "metadata": {},
   "outputs": [],
   "source": [
    "model_id = \"./Llama-3.1-8B-Instruct\" # local path to the model\n",
    "\n",
    "pipeline: transformers.pipeline = transformers.pipeline(\"text-generation\", model=model_id, device_map=\"auto\", model_kwargs={\"torch_dtype\": torch.float16, \"low_cpu_mem_usage\": True})\n",
    "terminators = [pipeline.tokenizer.eos_token_id, pipeline.tokenizer.convert_tokens_to_ids(\"<|eot_id|>\")]"
   ]
  },
  {
   "cell_type": "code",
   "execution_count": null,
   "metadata": {},
   "outputs": [],
   "source": [
    "# takes a str query and returns str responses\n",
    "def get_response(query, message_history=[], max_tokens=2048, temperature=0.6, top_p=0.9):\n",
    "    user_prompt = message_history + [{\"role\": \"user\", \"content\": query}]\n",
    "    prompt = pipeline.tokenizer.apply_chat_template(\n",
    "        user_prompt, tokenize=False, add_generation_prompt=True\n",
    "    )\n",
    "    outputs = pipeline(\n",
    "        prompt,\n",
    "        max_new_tokens=max_tokens,\n",
    "        eos_token_id=terminators,\n",
    "        do_sample=True,\n",
    "        temperature=temperature,\n",
    "        top_p=top_p\n",
    "    )\n",
    "    response = outputs[0][\"generated_text\"][len(prompt):]\n",
    "    return response\n",
    "\n",
    "# take a list of messages (dict[str, any] -> role, content) and a response\n",
    "def response_from_msg_list(msg_list: list[dict], message_history=[], max_tokens=2048, temperature=0.6, top_p=0.9):\n",
    "    flat_msg_list = []\n",
    "    for x in range(len(msg_list)): flat_msg_list += [{\"role\":k , \"content\": v} for k, v in msg_list[x].items()]\n",
    "    user_prompt = message_history + flat_msg_list\n",
    "    print(\"message list:\", user_prompt)\n",
    "    prompt = pipeline.tokenizer.apply_chat_template(\n",
    "        user_prompt, tokenize=False, add_generation_prompt=True\n",
    "    )\n",
    "    outputs = pipeline(\n",
    "        prompt,\n",
    "        max_new_tokens=max_tokens,\n",
    "        eos_token_id=terminators,\n",
    "        do_sample=True,\n",
    "        temperature=temperature,\n",
    "        top_p=top_p\n",
    "    )\n",
    "    response = outputs[0][\"generated_text\"][len(prompt):]\n",
    "    return response"
   ]
  },
  {
   "cell_type": "code",
   "execution_count": null,
   "metadata": {},
   "outputs": [],
   "source": [
    "get_response(\"What is the capital of Canada in one word and what's your confidence as a percentage that this is the correct answer?\")"
   ]
  },
  {
   "cell_type": "code",
   "execution_count": null,
   "metadata": {},
   "outputs": [],
   "source": [
    "r = response_from_msg_list([{\"user\": \"What is the most populated city in Australia?\"}, {\"system\": \"provide the answer as concisely as possible and your confidence as a percentage at the end\"}])\n",
    "r"
   ]
  },
  {
   "cell_type": "code",
   "execution_count": null,
   "metadata": {},
   "outputs": [],
   "source": []
  }
 ],
 "metadata": {
  "kernelspec": {
   "display_name": "venv",
   "language": "python",
   "name": "python3"
  },
  "language_info": {
   "codemirror_mode": {
    "name": "ipython",
    "version": 3
   },
   "file_extension": ".py",
   "mimetype": "text/x-python",
   "name": "python",
   "nbconvert_exporter": "python",
   "pygments_lexer": "ipython3",
   "version": "3.13.2"
  }
 },
 "nbformat": 4,
 "nbformat_minor": 2
}
