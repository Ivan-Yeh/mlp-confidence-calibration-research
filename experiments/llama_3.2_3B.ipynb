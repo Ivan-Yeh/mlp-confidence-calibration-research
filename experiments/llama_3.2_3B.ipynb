{
 "cells": [
  {
   "cell_type": "markdown",
   "metadata": {},
   "source": [
    "# llama_3.1 8B Instruct\n",
    "\n",
    "This model could ben downloaded and deploy locally, despite its slow runtime. "
   ]
  },
  {
   "cell_type": "markdown",
   "metadata": {},
   "source": [
    "# Pipeline"
   ]
  },
  {
   "cell_type": "code",
   "execution_count": 1,
   "metadata": {},
   "outputs": [
    {
     "name": "stderr",
     "output_type": "stream",
     "text": [
      "/Users/ivan/Documents/uni-projects/mlp-confidence-calibration-research/venv/lib/python3.13/site-packages/tqdm/auto.py:21: TqdmWarning: IProgress not found. Please update jupyter and ipywidgets. See https://ipywidgets.readthedocs.io/en/stable/user_install.html\n",
      "  from .autonotebook import tqdm as notebook_tqdm\n"
     ]
    }
   ],
   "source": [
    "import json\n",
    "import torch\n",
    "import transformers\n",
    "from huggingface_hub import snapshot_download, login\n",
    "import os"
   ]
  },
  {
   "cell_type": "code",
   "execution_count": 2,
   "metadata": {},
   "outputs": [
    {
     "name": "stderr",
     "output_type": "stream",
     "text": [
      "Note: Environment variable`HF_TOKEN` is set and is the current active token independently from the token you've just configured.\n"
     ]
    }
   ],
   "source": [
    "login(token=os.environ[\"HF_TOKEN\"])"
   ]
  },
  {
   "cell_type": "code",
   "execution_count": 3,
   "metadata": {},
   "outputs": [
    {
     "name": "stderr",
     "output_type": "stream",
     "text": [
      "Fetching 16 files: 100%|██████████| 16/16 [00:00<00:00, 132104.06it/s]\n"
     ]
    },
    {
     "data": {
      "text/plain": [
       "'/Users/ivan/.cache/huggingface/hub/models--meta-llama--Llama-3.2-3B-Instruct/snapshots/0cb88a4f764b7a12671c53f0838cd831a0843b95'"
      ]
     },
     "execution_count": 3,
     "metadata": {},
     "output_type": "execute_result"
    }
   ],
   "source": [
    "local_dir = snapshot_download(repo_id=\"meta-llama/Llama-3.2-3B-Instruct\")\n",
    "local_dir"
   ]
  },
  {
   "cell_type": "code",
   "execution_count": 5,
   "metadata": {},
   "outputs": [
    {
     "name": "stderr",
     "output_type": "stream",
     "text": [
      "Loading checkpoint shards: 100%|██████████| 2/2 [00:12<00:00,  6.33s/it]\n",
      "Some parameters are on the meta device because they were offloaded to the disk.\n",
      "Device set to use mps\n"
     ]
    }
   ],
   "source": [
    "pipeline: transformers.pipeline = transformers.pipeline(\"text-generation\", model=local_dir, device_map=\"auto\", model_kwargs={\"torch_dtype\": torch.float16, \"low_cpu_mem_usage\": True})\n",
    "terminators = [pipeline.tokenizer.eos_token_id, pipeline.tokenizer.convert_tokens_to_ids(\"<|eot_id|>\")]"
   ]
  },
  {
   "cell_type": "code",
   "execution_count": 6,
   "metadata": {},
   "outputs": [],
   "source": [
    "# takes a str query and returns str responses\n",
    "def get_response(query, message_history=[], max_tokens=2048, temperature=0.6, top_p=0.9):\n",
    "    user_prompt = message_history + [{\"role\": \"user\", \"content\": query}]\n",
    "    prompt = pipeline.tokenizer.apply_chat_template(\n",
    "        user_prompt, tokenize=False, add_generation_prompt=True\n",
    "    )\n",
    "    outputs = pipeline(\n",
    "        prompt,\n",
    "        max_new_tokens=max_tokens,\n",
    "        eos_token_id=terminators,\n",
    "        do_sample=True,\n",
    "        temperature=temperature,\n",
    "        top_p=top_p\n",
    "    )\n",
    "    response = outputs[0][\"generated_text\"][len(prompt):]\n",
    "    return response\n",
    "\n",
    "# take a list of messages (dict[str, any] -> role, content) and a response\n",
    "def response_from_msg_list(msg_list: list[dict], message_history=[], max_tokens=2048, temperature=0.6, top_p=0.9):\n",
    "    flat_msg_list = []\n",
    "    for x in range(len(msg_list)): flat_msg_list += [{\"role\":k , \"content\": v} for k, v in msg_list[x].items()]\n",
    "    user_prompt = message_history + flat_msg_list\n",
    "    print(\"message list:\", user_prompt)\n",
    "    prompt = pipeline.tokenizer.apply_chat_template(\n",
    "        user_prompt, tokenize=False, add_generation_prompt=True\n",
    "    )\n",
    "    outputs = pipeline(\n",
    "        prompt,\n",
    "        max_new_tokens=max_tokens,\n",
    "        eos_token_id=terminators,\n",
    "        do_sample=True,\n",
    "        temperature=temperature,\n",
    "        top_p=top_p\n",
    "    )\n",
    "    response = outputs[0][\"generated_text\"][len(prompt):]\n",
    "    return response"
   ]
  },
  {
   "cell_type": "code",
   "execution_count": 7,
   "metadata": {},
   "outputs": [
    {
     "name": "stderr",
     "output_type": "stream",
     "text": [
      "Setting `pad_token_id` to `eos_token_id`:128009 for open-end generation.\n"
     ]
    },
    {
     "data": {
      "text/plain": [
       "'Ottawa (95%)'"
      ]
     },
     "execution_count": 7,
     "metadata": {},
     "output_type": "execute_result"
    }
   ],
   "source": [
    "get_response(\"What is the capital of Canada in one word and what's your confidence as a percentage in parentheses that this is the correct answer?\")"
   ]
  },
  {
   "cell_type": "markdown",
   "metadata": {},
   "source": [
    "# Extract Logits"
   ]
  },
  {
   "cell_type": "code",
   "execution_count": 257,
   "metadata": {},
   "outputs": [],
   "source": [
    "from transformers import LlamaTokenizer, LlamaForCausalLM, AutoTokenizer\n",
    "import torch\n",
    "from huggingface_hub import snapshot_download\n",
    "import torch.nn.functional as F\n",
    "import numpy as np\n",
    "import math"
   ]
  },
  {
   "cell_type": "code",
   "execution_count": 5,
   "metadata": {},
   "outputs": [
    {
     "name": "stderr",
     "output_type": "stream",
     "text": [
      "Fetching 16 files: 100%|██████████| 16/16 [00:00<00:00, 271695.81it/s]\n",
      "Loading checkpoint shards: 100%|██████████| 2/2 [00:16<00:00,  8.31s/it]\n"
     ]
    }
   ],
   "source": [
    "# Load tokenizer and model\n",
    "local_dir = snapshot_download(repo_id=\"meta-llama/Llama-3.2-3B-Instruct\")\n",
    "# Load model with dtype for efficiency\n",
    "model = LlamaForCausalLM.from_pretrained(local_dir, torch_dtype=torch.float16, low_cpu_mem_usage=True)\n",
    "tokenizer = AutoTokenizer.from_pretrained(local_dir)"
   ]
  },
  {
   "cell_type": "code",
   "execution_count": 324,
   "metadata": {},
   "outputs": [
    {
     "name": "stderr",
     "output_type": "stream",
     "text": [
      "The attention mask and the pad token id were not set. As a consequence, you may observe unexpected behavior. Please pass your input's `attention_mask` to obtain reliable results.\n",
      "Setting `pad_token_id` to `eos_token_id`:128001 for open-end generation.\n"
     ]
    }
   ],
   "source": [
    "text = \"Whats the capital of Canada in as few words as possible?\"\n",
    "inputs = tokenizer(text, return_tensors=\"pt\")\n",
    "\n",
    "with torch.no_grad():\n",
    "    outputs = model.generate(\n",
    "        inputs['input_ids'], \n",
    "        max_new_tokens=5, \n",
    "        return_dict_in_generate=True, \n",
    "        output_logits=True,\n",
    "        output_scores=True,\n",
    "        top_p =0.9\n",
    "    )"
   ]
  },
  {
   "cell_type": "code",
   "execution_count": 325,
   "metadata": {},
   "outputs": [
    {
     "data": {
      "text/plain": [
       "[' \\nOttawa.']"
      ]
     },
     "execution_count": 325,
     "metadata": {},
     "output_type": "execute_result"
    }
   ],
   "source": [
    "tokenizer.batch_decode(outputs.sequences[:, inputs[\"input_ids\"].shape[1]:], skip_special_tokens=True)"
   ]
  },
  {
   "cell_type": "code",
   "execution_count": 326,
   "metadata": {},
   "outputs": [],
   "source": [
    "def single_generation_confidence(logits):\n",
    "    n = len(logits)\n",
    "    log_probs = 0\n",
    "    for logit in logits:\n",
    "        log_probs += torch.log_softmax(logit, dim=len(logit)).max()\n",
    "    return math.exp(float(log_probs) / n)"
   ]
  },
  {
   "cell_type": "code",
   "execution_count": 327,
   "metadata": {},
   "outputs": [
    {
     "data": {
      "text/plain": [
       "0.6341904959597433"
      ]
     },
     "execution_count": 327,
     "metadata": {},
     "output_type": "execute_result"
    }
   ],
   "source": [
    "single_generation_confidence(outputs.logits)"
   ]
  },
  {
   "cell_type": "code",
   "execution_count": null,
   "metadata": {},
   "outputs": [
    {
     "name": "stdout",
     "output_type": "stream",
     "text": [
      "Cluster 0:\n",
      "- I enjoy cooking pasta\n",
      "- Pasta is delicious\n",
      "\n",
      "\n",
      "Cluster 1:\n",
      "- I love programming in Python\n",
      "- Python is a great programming language\n",
      "- Data science and machine learning are interesting\n",
      "- I like reading about artificial intelligence\n",
      "\n",
      "\n"
     ]
    },
    {
     "name": "stderr",
     "output_type": "stream",
     "text": [
      "huggingface/tokenizers: The current process just got forked, after parallelism has already been used. Disabling parallelism to avoid deadlocks...\n",
      "To disable this warning, you can either:\n",
      "\t- Avoid using `tokenizers` before the fork if possible\n",
      "\t- Explicitly set the environment variable TOKENIZERS_PARALLELISM=(true | false)\n"
     ]
    }
   ],
   "source": [
    "from sentence_transformers import SentenceTransformer\n",
    "from sklearn.cluster import KMeans\n",
    "\n",
    "# Sample texts\n",
    "texts = [\n",
    "    \"I love programming in Python\"\n",
    "]\n",
    "\n",
    "# Load pre-trained SentenceTransformer model\n",
    "model = SentenceTransformer('all-MiniLM-L6-v2')\n",
    "\n",
    "# Generate embeddings for all texts\n",
    "embeddings = model.encode(texts)\n",
    "\n",
    "# Perform K-means clustering\n",
    "num_clusters = 2\n",
    "kmeans = KMeans(n_clusters=num_clusters, random_state=42)\n",
    "kmeans.fit(embeddings)\n",
    "\n",
    "# Assign texts to clusters\n",
    "clusters = kmeans.labels_\n",
    "\n",
    "# Print out the texts in each cluster\n",
    "for cluster_num in range(num_clusters):\n",
    "    print(f\"Cluster {cluster_num}:\")\n",
    "    for i, label in enumerate(clusters):\n",
    "        if label == cluster_num:\n",
    "            print(f\"- {texts[i]}\")\n",
    "    print(\"\\n\")"
   ]
  },
  {
   "cell_type": "code",
   "execution_count": null,
   "metadata": {},
   "outputs": [],
   "source": []
  }
 ],
 "metadata": {
  "kernelspec": {
   "display_name": "venv",
   "language": "python",
   "name": "python3"
  },
  "language_info": {
   "codemirror_mode": {
    "name": "ipython",
    "version": 3
   },
   "file_extension": ".py",
   "mimetype": "text/x-python",
   "name": "python",
   "nbconvert_exporter": "python",
   "pygments_lexer": "ipython3",
   "version": "3.13.2"
  }
 },
 "nbformat": 4,
 "nbformat_minor": 2
}
