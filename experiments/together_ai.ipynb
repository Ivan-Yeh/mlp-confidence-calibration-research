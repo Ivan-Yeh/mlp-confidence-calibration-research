{
 "cells": [
  {
   "cell_type": "code",
   "execution_count": 2,
   "id": "a456955e",
   "metadata": {},
   "outputs": [],
   "source": [
    "from together import Together\n",
    "import json\n",
    "import numpy as np"
   ]
  },
  {
   "cell_type": "code",
   "execution_count": null,
   "id": "7aba26d6",
   "metadata": {},
   "outputs": [],
   "source": [
    "with open(\"api.json\", \"r\") as f:\n",
    "    TOGETHER_AI_TOKEN = json.load(f)[\"TOGETHER_AI_TOKEN\"]\n",
    "\n",
    "client = Together(api_key=TOGETHER_AI_TOKEN)\n",
    "\n",
    "# Simple text message\n",
    "chat_completion = client.chat.completions.create(\n",
    "    model=\"mistralai/Mixtral-8x7B-Instruct-v0.1\",\n",
    "    messages=[{\"role\": \"user\", \"content\": \"tell me about new york\"}],\n",
    "    max_tokens=128,\n",
    "    logprobs=1\n",
    ")"
   ]
  },
  {
   "cell_type": "code",
   "execution_count": 4,
   "id": "43a650ee",
   "metadata": {},
   "outputs": [
    {
     "data": {
      "text/plain": [
       "' New York is a state in the Northeastern United States, and its largest city, New York City, is one of the most iconic and influential cities in the world.\\n\\nNew York State is known for its diverse natural beauty, from the Adirondack Mountains in the north to the Niagara Falls in the west, and the Long Island beaches in the southeast. The state has a long and rich history, with its roots in the Dutch and British colonization of the New World.\\n\\nNew York City, or \"the City\" as it is often called, is a global hub of finance,'"
      ]
     },
     "execution_count": 4,
     "metadata": {},
     "output_type": "execute_result"
    }
   ],
   "source": [
    "chat_completion.choices[0].message.content"
   ]
  },
  {
   "cell_type": "code",
   "execution_count": 9,
   "id": "a14f92a8",
   "metadata": {},
   "outputs": [
    {
     "data": {
      "text/plain": [
       "[-1.4424220353248529e-05,\n",
       " 0.0,\n",
       " -3.4570634852570947e-06,\n",
       " 0.0,\n",
       " -0.00042798896902240813,\n",
       " -0.009756263345479965,\n",
       " 0.0,\n",
       " -2.578890085220337,\n",
       " -5.960462772236497e-07,\n",
       " -3.576278118089249e-07,\n",
       " -0.007614043075591326,\n",
       " 0.0,\n",
       " -0.11283523589372635,\n",
       " -0.00018225439998786896,\n",
       " -0.15037822723388672,\n",
       " -1.9073468138230965e-06,\n",
       " -1.0490362910786644e-05,\n",
       " -1.1920928244535389e-07,\n",
       " -1.3470558769768104e-05,\n",
       " 0.0,\n",
       " -5.483612312673358e-06,\n",
       " 0.0,\n",
       " 0.0,\n",
       " -0.006991564761847258,\n",
       " 0.0,\n",
       " 0.0,\n",
       " -0.0017027654685080051,\n",
       " -0.11218277364969254,\n",
       " 0.0,\n",
       " -0.04300664737820625,\n",
       " -1.2443320751190186,\n",
       " -5.8412379075889476e-06,\n",
       " 0.0,\n",
       " 0.0,\n",
       " 0.0,\n",
       " 0.0,\n",
       " -0.015045495703816414,\n",
       " -2.3841855067985307e-07,\n",
       " -0.12695817649364471,\n",
       " 0.0,\n",
       " -0.000523430178873241,\n",
       " -3.182837463100441e-05,\n",
       " -0.10063549131155014,\n",
       " 0.0,\n",
       " -1.1920928244535389e-07,\n",
       " -0.010914389975368977,\n",
       " -0.055859047919511795,\n",
       " -0.0001113352773245424,\n",
       " 0.0,\n",
       " -0.20586863160133362,\n",
       " -2.861018856492592e-06,\n",
       " -0.045163560658693314,\n",
       " 0.0,\n",
       " 0.0,\n",
       " -9.536738616588991e-07,\n",
       " -0.00038068200228735805,\n",
       " -9.60780744208023e-05,\n",
       " 0.0,\n",
       " -0.38703203201293945,\n",
       " 0.0,\n",
       " -0.00013982271775603294,\n",
       " -0.2887653112411499,\n",
       " 0.0,\n",
       " 0.0,\n",
       " 0.0,\n",
       " -0.004095619544386864,\n",
       " -2.3841855067985307e-07,\n",
       " -8.344646857949556e-07,\n",
       " -0.006397837307304144,\n",
       " -4.768370445162873e-07,\n",
       " -0.011225755326449871,\n",
       " -0.03588413447141647,\n",
       " 0.0,\n",
       " -0.05940541997551918,\n",
       " 0.0,\n",
       " -1.5497195136049413e-06,\n",
       " 0.0,\n",
       " -0.5376230478286743,\n",
       " -4.768370445162873e-07,\n",
       " 0.0,\n",
       " -0.0019334923708811402,\n",
       " -3.4570634852570947e-06,\n",
       " -1.0094577074050903,\n",
       " 0.0,\n",
       " -0.5245693922042847,\n",
       " -3.3378546504536644e-06,\n",
       " -0.0043599787168204784,\n",
       " -1.5497195136049413e-06,\n",
       " 0.0,\n",
       " -0.08900118619203568,\n",
       " -0.27216637134552,\n",
       " -0.7117661237716675,\n",
       " -0.059491127729415894,\n",
       " -0.12848502397537231,\n",
       " -0.019529908895492554,\n",
       " -0.17836616933345795,\n",
       " -0.006716177798807621,\n",
       " -0.07437177002429962,\n",
       " -0.038051169365644455,\n",
       " -1.3589766240329482e-05,\n",
       " -0.06356769800186157,\n",
       " -0.6889556050300598,\n",
       " -8.344646857949556e-07,\n",
       " -0.006222991272807121,\n",
       " -0.061743609607219696,\n",
       " 0.0,\n",
       " -0.00010835537250386551,\n",
       " 0.0,\n",
       " -1.4305104514278355e-06,\n",
       " -0.02975643426179886,\n",
       " -0.49208569526672363,\n",
       " -0.4869375228881836,\n",
       " -0.25198668241500854,\n",
       " -0.08383728563785553,\n",
       " -0.6931545734405518,\n",
       " 0.0,\n",
       " 0.0,\n",
       " -0.029750416055321693,\n",
       " -0.02334548905491829,\n",
       " -0.01821165345609188,\n",
       " -1.0132738680113107e-05,\n",
       " 0.0,\n",
       " -0.47420409321784973,\n",
       " -0.00039736481267027557,\n",
       " -0.016087841242551804,\n",
       " -0.3132617473602295,\n",
       " -0.01924380473792553,\n",
       " 0.0]"
      ]
     },
     "execution_count": 9,
     "metadata": {},
     "output_type": "execute_result"
    }
   ],
   "source": [
    "chat_completion.choices[0].logprobs.token_logprobs"
   ]
  },
  {
   "cell_type": "code",
   "execution_count": 8,
   "id": "96420c5c",
   "metadata": {},
   "outputs": [
    {
     "data": {
      "text/plain": [
       "np.float64(0.9294521930317299)"
      ]
     },
     "execution_count": 8,
     "metadata": {},
     "output_type": "execute_result"
    }
   ],
   "source": [
    "np.exp(chat_completion.choices[0].logprobs.token_logprobs).mean()"
   ]
  }
 ],
 "metadata": {
  "kernelspec": {
   "display_name": "venv",
   "language": "python",
   "name": "python3"
  },
  "language_info": {
   "codemirror_mode": {
    "name": "ipython",
    "version": 3
   },
   "file_extension": ".py",
   "mimetype": "text/x-python",
   "name": "python",
   "nbconvert_exporter": "python",
   "pygments_lexer": "ipython3",
   "version": "3.13.2"
  }
 },
 "nbformat": 4,
 "nbformat_minor": 5
}
