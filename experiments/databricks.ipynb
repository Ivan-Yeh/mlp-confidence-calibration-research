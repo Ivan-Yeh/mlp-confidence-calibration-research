{
 "cells": [
  {
   "cell_type": "code",
   "execution_count": 37,
   "id": "001c3767",
   "metadata": {},
   "outputs": [],
   "source": [
    "from openai import OpenAI\n",
    "import json\n",
    "import numpy as np"
   ]
  },
  {
   "cell_type": "code",
   "execution_count": 48,
   "id": "2e7b577c",
   "metadata": {},
   "outputs": [],
   "source": [
    "\n",
    "# Load JSON from a file\n",
    "with open(\"api.json\", \"r\") as f:\n",
    "    DATABRICKS_TOKEN = json.load(f)[\"DATABRICKS_TOKEN\"]\n",
    "\n",
    "client = OpenAI(\n",
    "  api_key=DATABRICKS_TOKEN,\n",
    "  base_url=\"https://dbc-b04afa5d-8e3e.cloud.databricks.com/serving-endpoints\"\n",
    ")\n",
    "\n",
    "chat_completion = client.chat.completions.create(\n",
    "  messages=[\n",
    "  {\n",
    "    \"role\": \"system\",\n",
    "    \"content\": \"You are a concise AI assistant\"\n",
    "  },\n",
    "  {\n",
    "    \"role\": \"user\",\n",
    "    \"content\": \"Who are the top riches people?\"\n",
    "  }\n",
    "  ],\n",
    "  model=\"databricks-meta-llama-3-3-70b-instruct\",\n",
    "  max_tokens=50,\n",
    "  logprobs=True\n",
    ")"
   ]
  },
  {
   "cell_type": "code",
   "execution_count": 49,
   "id": "e9e57fc8",
   "metadata": {},
   "outputs": [
    {
     "data": {
      "text/plain": [
       "\"According to Forbes' 2022 Billionaires List, the top 5 richest people are:\\n\\n1. Elon Musk - $219 billion\\n2. Jeff Bezos - $171 billion\\n3. Bernard Arnault - $158 billion\\n4.\""
      ]
     },
     "execution_count": 49,
     "metadata": {},
     "output_type": "execute_result"
    }
   ],
   "source": [
    "chat_completion.choices[0].message.content"
   ]
  },
  {
   "cell_type": "code",
   "execution_count": 50,
   "id": "8dc91f16",
   "metadata": {},
   "outputs": [
    {
     "data": {
      "text/plain": [
       "np.float64(0.9680950495454311)"
      ]
     },
     "execution_count": 50,
     "metadata": {},
     "output_type": "execute_result"
    }
   ],
   "source": [
    "np.exp(np.array([t.logprob for t in chat_completion.choices[0].logprobs.content])).mean()"
   ]
  }
 ],
 "metadata": {
  "kernelspec": {
   "display_name": "venv",
   "language": "python",
   "name": "python3"
  },
  "language_info": {
   "codemirror_mode": {
    "name": "ipython",
    "version": 3
   },
   "file_extension": ".py",
   "mimetype": "text/x-python",
   "name": "python",
   "nbconvert_exporter": "python",
   "pygments_lexer": "ipython3",
   "version": "3.13.2"
  }
 },
 "nbformat": 4,
 "nbformat_minor": 5
}
